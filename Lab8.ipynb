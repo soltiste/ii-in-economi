{
  "nbformat": 4,
  "nbformat_minor": 0,
  "metadata": {
    "colab": {
      "provenance": [],
      "mount_file_id": "1-HykZtF7MIiLgS7fzHEdI_aRglXNFfJs",
      "authorship_tag": "ABX9TyOHSH/ccHwbt9P+hWSlt0O8",
      "include_colab_link": true
    },
    "kernelspec": {
      "name": "python3",
      "display_name": "Python 3"
    },
    "language_info": {
      "name": "python"
    }
  },
  "cells": [
    {
      "cell_type": "markdown",
      "metadata": {
        "id": "view-in-github",
        "colab_type": "text"
      },
      "source": [
        "<a href=\"https://colab.research.google.com/github/soltiste/ii-in-economi/blob/main/Lab8.ipynb\" target=\"_parent\"><img src=\"https://colab.research.google.com/assets/colab-badge.svg\" alt=\"Open In Colab\"/></a>"
      ]
    },
    {
      "cell_type": "markdown",
      "source": [
        "1. Загрузите данные из файла data-logistic.csv. Это двумерная выборка, целевая переменная на которой принимает значения -1 или 1.\n",
        "2. Убедитесь, что выше выписаны правильные формулы для градиентного спуска. Обратите внимание, что мы используем полноценный градиентный спуск, а не его стохастический вариант!\n",
        "3. Реализуйте градиентный спуск для обычной и L2-регуляризованной\n",
        "(с коэффициентом регуляризации 10) логистической регрессии. Используйте длину шага k=0.1. В качестве начального приближения\n",
        "используйте вектор (0, 0).\n",
        "4. Запустите градиентный спуск и доведите до сходимости (евклидово\n",
        "расстояние между векторами весов на соседних итерациях должно быть не больше 1e-5). Рекомендуется ограничить сверху число\n",
        "итераций десятью тысячами.\n",
        "5. Какое значение принимает AUC-ROC на обучении без регуляризации и при ее использовании? Эти величины будут ответом на\n",
        "задание. В качестве ответа приведите два числа через пробел. Обратите внимание, что на вход функции roc_auc_score нужно подавать оценки вероятностей, подсчитанные обученным алгоритмом.\n",
        "Для этого воспользуйтесь сигмоидной функцией: a(x) = 1/(1 +\n",
        "exp(−w1x1 − w2x2)).\n",
        "6. Попробуйте поменять длину шага. Будет ли сходиться алгоритм,\n",
        "если делать более длинные шаги? Как меняется число итераций\n",
        "при уменьшении длины шага?\n",
        "7. Попробуйте менять начальное приближение. Влияет ли оно на чтонибудь?"
      ],
      "metadata": {
        "id": "hS-snZ1Owg8O"
      }
    },
    {
      "cell_type": "code",
      "execution_count": 1,
      "metadata": {
        "id": "fEjEtcJtwQ0L"
      },
      "outputs": [],
      "source": [
        "import numpy as np\n",
        "import pandas as pd\n",
        "import matplotlib.pyplot as plt\n",
        "from numpy import linalg as LA\n",
        "from sklearn.metrics import roc_auc_score"
      ]
    },
    {
      "cell_type": "code",
      "source": [
        "df = pd.read_csv('/content/drive/MyDrive/data-logistic.csv',\n",
        "                 header=None,\n",
        "                 names=['1', '2', '3'])\n",
        "df"
      ],
      "metadata": {
        "colab": {
          "base_uri": "https://localhost:8080/",
          "height": 423
        },
        "id": "WqkdlTS8wzy8",
        "outputId": "9b308d50-98ec-421f-bff1-5718cf2b8153"
      },
      "execution_count": 2,
      "outputs": [
        {
          "output_type": "execute_result",
          "data": {
            "text/plain": [
              "     1         2          3\n",
              "0   -1 -0.663827  -0.138526\n",
              "1    1  1.994596   2.468025\n",
              "2   -1 -1.247395   0.749425\n",
              "3    1  2.309374   1.899836\n",
              "4    1  0.849143   2.407750\n",
              "..  ..       ...        ...\n",
              "200  1  4.245176   3.053931\n",
              "201  1  2.437935   1.357804\n",
              "202 -1 -1.876638   1.533398\n",
              "203  1 -6.824446 -13.934211\n",
              "204 -1  0.001805   0.865147\n",
              "\n",
              "[205 rows x 3 columns]"
            ],
            "text/html": [
              "\n",
              "  <div id=\"df-faad242c-fbfe-479f-8c9b-2ae3b2b86d2f\" class=\"colab-df-container\">\n",
              "    <div>\n",
              "<style scoped>\n",
              "    .dataframe tbody tr th:only-of-type {\n",
              "        vertical-align: middle;\n",
              "    }\n",
              "\n",
              "    .dataframe tbody tr th {\n",
              "        vertical-align: top;\n",
              "    }\n",
              "\n",
              "    .dataframe thead th {\n",
              "        text-align: right;\n",
              "    }\n",
              "</style>\n",
              "<table border=\"1\" class=\"dataframe\">\n",
              "  <thead>\n",
              "    <tr style=\"text-align: right;\">\n",
              "      <th></th>\n",
              "      <th>1</th>\n",
              "      <th>2</th>\n",
              "      <th>3</th>\n",
              "    </tr>\n",
              "  </thead>\n",
              "  <tbody>\n",
              "    <tr>\n",
              "      <th>0</th>\n",
              "      <td>-1</td>\n",
              "      <td>-0.663827</td>\n",
              "      <td>-0.138526</td>\n",
              "    </tr>\n",
              "    <tr>\n",
              "      <th>1</th>\n",
              "      <td>1</td>\n",
              "      <td>1.994596</td>\n",
              "      <td>2.468025</td>\n",
              "    </tr>\n",
              "    <tr>\n",
              "      <th>2</th>\n",
              "      <td>-1</td>\n",
              "      <td>-1.247395</td>\n",
              "      <td>0.749425</td>\n",
              "    </tr>\n",
              "    <tr>\n",
              "      <th>3</th>\n",
              "      <td>1</td>\n",
              "      <td>2.309374</td>\n",
              "      <td>1.899836</td>\n",
              "    </tr>\n",
              "    <tr>\n",
              "      <th>4</th>\n",
              "      <td>1</td>\n",
              "      <td>0.849143</td>\n",
              "      <td>2.407750</td>\n",
              "    </tr>\n",
              "    <tr>\n",
              "      <th>...</th>\n",
              "      <td>...</td>\n",
              "      <td>...</td>\n",
              "      <td>...</td>\n",
              "    </tr>\n",
              "    <tr>\n",
              "      <th>200</th>\n",
              "      <td>1</td>\n",
              "      <td>4.245176</td>\n",
              "      <td>3.053931</td>\n",
              "    </tr>\n",
              "    <tr>\n",
              "      <th>201</th>\n",
              "      <td>1</td>\n",
              "      <td>2.437935</td>\n",
              "      <td>1.357804</td>\n",
              "    </tr>\n",
              "    <tr>\n",
              "      <th>202</th>\n",
              "      <td>-1</td>\n",
              "      <td>-1.876638</td>\n",
              "      <td>1.533398</td>\n",
              "    </tr>\n",
              "    <tr>\n",
              "      <th>203</th>\n",
              "      <td>1</td>\n",
              "      <td>-6.824446</td>\n",
              "      <td>-13.934211</td>\n",
              "    </tr>\n",
              "    <tr>\n",
              "      <th>204</th>\n",
              "      <td>-1</td>\n",
              "      <td>0.001805</td>\n",
              "      <td>0.865147</td>\n",
              "    </tr>\n",
              "  </tbody>\n",
              "</table>\n",
              "<p>205 rows × 3 columns</p>\n",
              "</div>\n",
              "    <div class=\"colab-df-buttons\">\n",
              "\n",
              "  <div class=\"colab-df-container\">\n",
              "    <button class=\"colab-df-convert\" onclick=\"convertToInteractive('df-faad242c-fbfe-479f-8c9b-2ae3b2b86d2f')\"\n",
              "            title=\"Convert this dataframe to an interactive table.\"\n",
              "            style=\"display:none;\">\n",
              "\n",
              "  <svg xmlns=\"http://www.w3.org/2000/svg\" height=\"24px\" viewBox=\"0 -960 960 960\">\n",
              "    <path d=\"M120-120v-720h720v720H120Zm60-500h600v-160H180v160Zm220 220h160v-160H400v160Zm0 220h160v-160H400v160ZM180-400h160v-160H180v160Zm440 0h160v-160H620v160ZM180-180h160v-160H180v160Zm440 0h160v-160H620v160Z\"/>\n",
              "  </svg>\n",
              "    </button>\n",
              "\n",
              "  <style>\n",
              "    .colab-df-container {\n",
              "      display:flex;\n",
              "      gap: 12px;\n",
              "    }\n",
              "\n",
              "    .colab-df-convert {\n",
              "      background-color: #E8F0FE;\n",
              "      border: none;\n",
              "      border-radius: 50%;\n",
              "      cursor: pointer;\n",
              "      display: none;\n",
              "      fill: #1967D2;\n",
              "      height: 32px;\n",
              "      padding: 0 0 0 0;\n",
              "      width: 32px;\n",
              "    }\n",
              "\n",
              "    .colab-df-convert:hover {\n",
              "      background-color: #E2EBFA;\n",
              "      box-shadow: 0px 1px 2px rgba(60, 64, 67, 0.3), 0px 1px 3px 1px rgba(60, 64, 67, 0.15);\n",
              "      fill: #174EA6;\n",
              "    }\n",
              "\n",
              "    .colab-df-buttons div {\n",
              "      margin-bottom: 4px;\n",
              "    }\n",
              "\n",
              "    [theme=dark] .colab-df-convert {\n",
              "      background-color: #3B4455;\n",
              "      fill: #D2E3FC;\n",
              "    }\n",
              "\n",
              "    [theme=dark] .colab-df-convert:hover {\n",
              "      background-color: #434B5C;\n",
              "      box-shadow: 0px 1px 3px 1px rgba(0, 0, 0, 0.15);\n",
              "      filter: drop-shadow(0px 1px 2px rgba(0, 0, 0, 0.3));\n",
              "      fill: #FFFFFF;\n",
              "    }\n",
              "  </style>\n",
              "\n",
              "    <script>\n",
              "      const buttonEl =\n",
              "        document.querySelector('#df-faad242c-fbfe-479f-8c9b-2ae3b2b86d2f button.colab-df-convert');\n",
              "      buttonEl.style.display =\n",
              "        google.colab.kernel.accessAllowed ? 'block' : 'none';\n",
              "\n",
              "      async function convertToInteractive(key) {\n",
              "        const element = document.querySelector('#df-faad242c-fbfe-479f-8c9b-2ae3b2b86d2f');\n",
              "        const dataTable =\n",
              "          await google.colab.kernel.invokeFunction('convertToInteractive',\n",
              "                                                    [key], {});\n",
              "        if (!dataTable) return;\n",
              "\n",
              "        const docLinkHtml = 'Like what you see? Visit the ' +\n",
              "          '<a target=\"_blank\" href=https://colab.research.google.com/notebooks/data_table.ipynb>data table notebook</a>'\n",
              "          + ' to learn more about interactive tables.';\n",
              "        element.innerHTML = '';\n",
              "        dataTable['output_type'] = 'display_data';\n",
              "        await google.colab.output.renderOutput(dataTable, element);\n",
              "        const docLink = document.createElement('div');\n",
              "        docLink.innerHTML = docLinkHtml;\n",
              "        element.appendChild(docLink);\n",
              "      }\n",
              "    </script>\n",
              "  </div>\n",
              "\n",
              "\n",
              "<div id=\"df-9e8e00fe-8a2b-4be6-86fd-4fec251cce43\">\n",
              "  <button class=\"colab-df-quickchart\" onclick=\"quickchart('df-9e8e00fe-8a2b-4be6-86fd-4fec251cce43')\"\n",
              "            title=\"Suggest charts\"\n",
              "            style=\"display:none;\">\n",
              "\n",
              "<svg xmlns=\"http://www.w3.org/2000/svg\" height=\"24px\"viewBox=\"0 0 24 24\"\n",
              "     width=\"24px\">\n",
              "    <g>\n",
              "        <path d=\"M19 3H5c-1.1 0-2 .9-2 2v14c0 1.1.9 2 2 2h14c1.1 0 2-.9 2-2V5c0-1.1-.9-2-2-2zM9 17H7v-7h2v7zm4 0h-2V7h2v10zm4 0h-2v-4h2v4z\"/>\n",
              "    </g>\n",
              "</svg>\n",
              "  </button>\n",
              "\n",
              "<style>\n",
              "  .colab-df-quickchart {\n",
              "      --bg-color: #E8F0FE;\n",
              "      --fill-color: #1967D2;\n",
              "      --hover-bg-color: #E2EBFA;\n",
              "      --hover-fill-color: #174EA6;\n",
              "      --disabled-fill-color: #AAA;\n",
              "      --disabled-bg-color: #DDD;\n",
              "  }\n",
              "\n",
              "  [theme=dark] .colab-df-quickchart {\n",
              "      --bg-color: #3B4455;\n",
              "      --fill-color: #D2E3FC;\n",
              "      --hover-bg-color: #434B5C;\n",
              "      --hover-fill-color: #FFFFFF;\n",
              "      --disabled-bg-color: #3B4455;\n",
              "      --disabled-fill-color: #666;\n",
              "  }\n",
              "\n",
              "  .colab-df-quickchart {\n",
              "    background-color: var(--bg-color);\n",
              "    border: none;\n",
              "    border-radius: 50%;\n",
              "    cursor: pointer;\n",
              "    display: none;\n",
              "    fill: var(--fill-color);\n",
              "    height: 32px;\n",
              "    padding: 0;\n",
              "    width: 32px;\n",
              "  }\n",
              "\n",
              "  .colab-df-quickchart:hover {\n",
              "    background-color: var(--hover-bg-color);\n",
              "    box-shadow: 0 1px 2px rgba(60, 64, 67, 0.3), 0 1px 3px 1px rgba(60, 64, 67, 0.15);\n",
              "    fill: var(--button-hover-fill-color);\n",
              "  }\n",
              "\n",
              "  .colab-df-quickchart-complete:disabled,\n",
              "  .colab-df-quickchart-complete:disabled:hover {\n",
              "    background-color: var(--disabled-bg-color);\n",
              "    fill: var(--disabled-fill-color);\n",
              "    box-shadow: none;\n",
              "  }\n",
              "\n",
              "  .colab-df-spinner {\n",
              "    border: 2px solid var(--fill-color);\n",
              "    border-color: transparent;\n",
              "    border-bottom-color: var(--fill-color);\n",
              "    animation:\n",
              "      spin 1s steps(1) infinite;\n",
              "  }\n",
              "\n",
              "  @keyframes spin {\n",
              "    0% {\n",
              "      border-color: transparent;\n",
              "      border-bottom-color: var(--fill-color);\n",
              "      border-left-color: var(--fill-color);\n",
              "    }\n",
              "    20% {\n",
              "      border-color: transparent;\n",
              "      border-left-color: var(--fill-color);\n",
              "      border-top-color: var(--fill-color);\n",
              "    }\n",
              "    30% {\n",
              "      border-color: transparent;\n",
              "      border-left-color: var(--fill-color);\n",
              "      border-top-color: var(--fill-color);\n",
              "      border-right-color: var(--fill-color);\n",
              "    }\n",
              "    40% {\n",
              "      border-color: transparent;\n",
              "      border-right-color: var(--fill-color);\n",
              "      border-top-color: var(--fill-color);\n",
              "    }\n",
              "    60% {\n",
              "      border-color: transparent;\n",
              "      border-right-color: var(--fill-color);\n",
              "    }\n",
              "    80% {\n",
              "      border-color: transparent;\n",
              "      border-right-color: var(--fill-color);\n",
              "      border-bottom-color: var(--fill-color);\n",
              "    }\n",
              "    90% {\n",
              "      border-color: transparent;\n",
              "      border-bottom-color: var(--fill-color);\n",
              "    }\n",
              "  }\n",
              "</style>\n",
              "\n",
              "  <script>\n",
              "    async function quickchart(key) {\n",
              "      const quickchartButtonEl =\n",
              "        document.querySelector('#' + key + ' button');\n",
              "      quickchartButtonEl.disabled = true;  // To prevent multiple clicks.\n",
              "      quickchartButtonEl.classList.add('colab-df-spinner');\n",
              "      try {\n",
              "        const charts = await google.colab.kernel.invokeFunction(\n",
              "            'suggestCharts', [key], {});\n",
              "      } catch (error) {\n",
              "        console.error('Error during call to suggestCharts:', error);\n",
              "      }\n",
              "      quickchartButtonEl.classList.remove('colab-df-spinner');\n",
              "      quickchartButtonEl.classList.add('colab-df-quickchart-complete');\n",
              "    }\n",
              "    (() => {\n",
              "      let quickchartButtonEl =\n",
              "        document.querySelector('#df-9e8e00fe-8a2b-4be6-86fd-4fec251cce43 button');\n",
              "      quickchartButtonEl.style.display =\n",
              "        google.colab.kernel.accessAllowed ? 'block' : 'none';\n",
              "    })();\n",
              "  </script>\n",
              "</div>\n",
              "    </div>\n",
              "  </div>\n"
            ],
            "application/vnd.google.colaboratory.intrinsic+json": {
              "type": "dataframe",
              "variable_name": "df",
              "summary": "{\n  \"name\": \"df\",\n  \"rows\": 205,\n  \"fields\": [\n    {\n      \"column\": \"1\",\n      \"properties\": {\n        \"dtype\": \"number\",\n        \"std\": 1,\n        \"min\": -1,\n        \"max\": 1,\n        \"num_unique_values\": 2,\n        \"samples\": [\n          1,\n          -1\n        ],\n        \"semantic_type\": \"\",\n        \"description\": \"\"\n      }\n    },\n    {\n      \"column\": \"2\",\n      \"properties\": {\n        \"dtype\": \"number\",\n        \"std\": 2.332040971284243,\n        \"min\": -12.977800215,\n        \"max\": 4.46599203536,\n        \"num_unique_values\": 205,\n        \"samples\": [\n          1.16844517782,\n          0.699178929108\n        ],\n        \"semantic_type\": \"\",\n        \"description\": \"\"\n      }\n    },\n    {\n      \"column\": \"3\",\n      \"properties\": {\n        \"dtype\": \"number\",\n        \"std\": 2.5469022771953003,\n        \"min\": -17.6772681159,\n        \"max\": 4.2283163009,\n        \"num_unique_values\": 205,\n        \"samples\": [\n          -0.645619241065,\n          2.03248760563\n        ],\n        \"semantic_type\": \"\",\n        \"description\": \"\"\n      }\n    }\n  ]\n}"
            }
          },
          "metadata": {},
          "execution_count": 2
        }
      ]
    },
    {
      "cell_type": "code",
      "source": [
        "X = df[['2', '3']].values\n",
        "y = df[['1']].values\n",
        "lenth = len(y)"
      ],
      "metadata": {
        "id": "pg0yheyxxljf"
      },
      "execution_count": 3,
      "outputs": []
    },
    {
      "cell_type": "code",
      "source": [
        "def func_loc_prod(i, w):\n",
        "    return 1.0 / (1.0 + np.exp(-y[i] * (w[0]*X[i][0] + w[1]*X[i][1])))\n",
        "\n",
        "def new_w(X, y, how_w, w, C, k=0.1):\n",
        "    return w[how_w] + ((sum([y[i]*X[i][how_w]*(1.0 - func_loc_prod(i, w)) for i in np.arange(0, lenth)]))*k)/ lenth - k*C*w[how_w]\n",
        "\n",
        "def grad_reg(X, y, w=np.array([0, 0]), C = 0, e=0.00001, max_step=10000, k=0.1):\n",
        "    for s in range(max_step):\n",
        "        w_prev = w\n",
        "        w = np.array([new_w(X, y, 0, w, C, k), new_w(X, y, 1, w, C, k)])\n",
        "        if LA.norm((w - w_prev)) <= e:\n",
        "            break\n",
        "    return w\n",
        "\n",
        "w = grad_reg(X, y)\n",
        "w_reg = grad_reg(X, y, w=np.array([0, 0]), C=10)\n",
        "print(*w)\n",
        "print(*w_reg)"
      ],
      "metadata": {
        "colab": {
          "base_uri": "https://localhost:8080/"
        },
        "id": "feJPmln64mH_",
        "outputId": "18ec7be7-a710-445d-f65f-71c4e4163b7b"
      },
      "execution_count": 21,
      "outputs": [
        {
          "output_type": "stream",
          "name": "stdout",
          "text": [
            "[0.28781162] [0.0919833]\n",
            "[0.02855875] [0.02478014]\n"
          ]
        }
      ]
    },
    {
      "cell_type": "code",
      "source": [
        "def sigma_f(x, w):\n",
        "  return 1.0 / (1 + np.exp((-w[0] *x[:, 0] - w[1]*x[:, 1])))"
      ],
      "metadata": {
        "id": "YbK_Hqda4UdZ"
      },
      "execution_count": 5,
      "outputs": []
    },
    {
      "cell_type": "code",
      "source": [
        "y_predict = sigma_f(X, w)\n",
        "y_predict_reg = sigma_f(X, w_reg)"
      ],
      "metadata": {
        "id": "nlEwByOS5xLL"
      },
      "execution_count": 6,
      "outputs": []
    },
    {
      "cell_type": "code",
      "source": [
        "auc_roc = roc_auc_score(y, y_predict)\n",
        "auc_roc_reg = roc_auc_score(y, y_predict_reg)\n",
        "print(auc_roc, auc_roc_reg)"
      ],
      "metadata": {
        "colab": {
          "base_uri": "https://localhost:8080/"
        },
        "id": "5aF5BSKQEIeV",
        "outputId": "a1ec0665-33e4-4ca8-f821-04d4b67f7ad9"
      },
      "execution_count": 7,
      "outputs": [
        {
          "output_type": "stream",
          "name": "stdout",
          "text": [
            "0.9268571428571428 0.9362857142857142\n"
          ]
        }
      ]
    },
    {
      "cell_type": "code",
      "source": [
        "fig, axs = plt.subplots(nrows=1, ncols=3)\n",
        "axs[0].scatter(X[:, 0], X[:, 1], c=y, s=10, cmap=plt.cm.PiYG)\n",
        "axs[1].scatter(X[:, 0], X[:, 1], c=y_predict, s=10, cmap=plt.cm.PiYG)\n",
        "axs[2].scatter(X[:, 0], X[:, 1], c=y_predict_reg, s=10, cmap=plt.cm.PiYG)"
      ],
      "metadata": {
        "colab": {
          "base_uri": "https://localhost:8080/",
          "height": 448
        },
        "id": "m-qGUgHvhG9j",
        "outputId": "ee23b07c-cce7-41ad-aea5-88eb2231bc9d"
      },
      "execution_count": 14,
      "outputs": [
        {
          "output_type": "execute_result",
          "data": {
            "text/plain": [
              "<matplotlib.collections.PathCollection at 0x78143bde1090>"
            ]
          },
          "metadata": {},
          "execution_count": 14
        },
        {
          "output_type": "display_data",
          "data": {
            "text/plain": [
              "<Figure size 640x480 with 3 Axes>"
            ],
            "image/png": "[encoded data removed]"
          },
          "metadata": {}
        }
      ]
    },
    {
      "cell_type": "markdown",
      "source": [
        "пробую менять длину шага"
      ],
      "metadata": {
        "id": "q2ZrQ-AefmK9"
      }
    },
    {
      "cell_type": "code",
      "source": [
        "def grad_reg_iter(X, y, w=np.array([0, 0]), C = 0, e=0.00001, max_step=10000, k=0.1):\n",
        "    for s in range(max_step):\n",
        "        w_prev = w\n",
        "        w = np.array([new_w(X, y, 0, w, C, k), new_w(X, y, 1, w, C, k)])\n",
        "        if LA.norm((w - w_prev)) <= e:\n",
        "            break\n",
        "    return s, w"
      ],
      "metadata": {
        "id": "pfw3QLGZpWa9"
      },
      "execution_count": 24,
      "outputs": []
    },
    {
      "cell_type": "code",
      "source": [
        "s1, w1 = grad_reg_iter(X, y, k=0.01)\n",
        "s11, w11 = grad_reg_iter(X, y, k=0.0001)\n",
        "s111, w111 = grad_reg_iter(X, y, k=100)\n",
        "y_predict1 = sigma_f(X, w1)\n",
        "y_predict11 = sigma_f(X, w11)\n",
        "y_predict111 = sigma_f(X, w111)\n",
        "fig, axs = plt.subplots(nrows=1, ncols=3)\n",
        "axs[0].scatter(X[:, 0], X[:, 1], c=y_predict1, s=10, cmap=plt.cm.PiYG)\n",
        "axs[1].scatter(X[:, 0], X[:, 1], c=y_predict11, s=10, cmap=plt.cm.PiYG)\n",
        "axs[2].scatter(X[:, 0], X[:, 1], c=y_predict111, s=10, cmap=plt.cm.PiYG)"
      ],
      "metadata": {
        "id": "BHmDlzLgJ3iT",
        "colab": {
          "base_uri": "https://localhost:8080/",
          "height": 484
        },
        "outputId": "17e53583-983e-4ff3-8398-1dca84b096f1"
      },
      "execution_count": 25,
      "outputs": [
        {
          "output_type": "stream",
          "name": "stderr",
          "text": [
            "<ipython-input-21-10b52a1e665d>:2: RuntimeWarning: overflow encountered in exp\n",
            "  return 1.0 / (1.0 + np.exp(-y[i] * (w[0]*X[i][0] + w[1]*X[i][1])))\n"
          ]
        },
        {
          "output_type": "execute_result",
          "data": {
            "text/plain": [
              "<matplotlib.collections.PathCollection at 0x78143bf4f640>"
            ]
          },
          "metadata": {},
          "execution_count": 25
        },
        {
          "output_type": "display_data",
          "data": {
            "text/plain": [
              "<Figure size 640x480 with 3 Axes>"
            ],
            "image/png": "[encoded data removed]"
          },
          "metadata": {}
        }
      ]
    },
    {
      "cell_type": "code",
      "source": [
        "print(s1, s11, s111)"
      ],
      "metadata": {
        "colab": {
          "base_uri": "https://localhost:8080/"
        },
        "id": "DSCGFzCPp0y_",
        "outputId": "345ad337-b8de-4b5b-f7f1-f3501892d978"
      },
      "execution_count": 26,
      "outputs": [
        {
          "output_type": "stream",
          "name": "stdout",
          "text": [
            "1478 8635 9999\n"
          ]
        }
      ]
    },
    {
      "cell_type": "markdown",
      "source": [
        "1)При уменьшении шага количество итераций увеличивается\n",
        "2)При достаточно большой длине шага алгоритм не сходится к решению задачи"
      ],
      "metadata": {
        "id": "B8OSgx2Sq-0J"
      }
    },
    {
      "cell_type": "code",
      "source": [
        "s1, w1 = grad_reg_iter(X, y, w=np.array([100, 100]))\n",
        "s11, w11 = grad_reg_iter(X, y, w=np.array([0, -100]))\n",
        "s111, w111 = grad_reg_iter(X, y, w=np.array([-30, 1000]))\n",
        "y_predict1 = sigma_f(X, w1)\n",
        "y_predict11 = sigma_f(X, w11)\n",
        "y_predict111 = sigma_f(X, w111)\n",
        "fig, axs = plt.subplots(nrows=1, ncols=3)\n",
        "axs[0].scatter(X[:, 0], X[:, 1], c=y_predict1, s=10, cmap=plt.cm.PiYG)\n",
        "axs[1].scatter(X[:, 0], X[:, 1], c=y_predict11, s=10, cmap=plt.cm.PiYG)\n",
        "axs[2].scatter(X[:, 0], X[:, 1], c=y_predict111, s=10, cmap=plt.cm.PiYG)"
      ],
      "metadata": {
        "colab": {
          "base_uri": "https://localhost:8080/",
          "height": 484
        },
        "id": "EpvVwGrJrgqv",
        "outputId": "8d414e05-51e6-4625-cc06-e1bab53e1bf5"
      },
      "execution_count": 27,
      "outputs": [
        {
          "output_type": "stream",
          "name": "stderr",
          "text": [
            "<ipython-input-21-10b52a1e665d>:2: RuntimeWarning: overflow encountered in exp\n",
            "  return 1.0 / (1.0 + np.exp(-y[i] * (w[0]*X[i][0] + w[1]*X[i][1])))\n"
          ]
        },
        {
          "output_type": "execute_result",
          "data": {
            "text/plain": [
              "<matplotlib.collections.PathCollection at 0x78143b5878e0>"
            ]
          },
          "metadata": {},
          "execution_count": 27
        },
        {
          "output_type": "display_data",
          "data": {
            "text/plain": [
              "<Figure size 640x480 with 3 Axes>"
            ],
            "image/png": "[encoded data removed]"
          },
          "metadata": {}
        }
      ]
    },
    {
      "cell_type": "code",
      "source": [
        "print(s1, s11, s111)"
      ],
      "metadata": {
        "colab": {
          "base_uri": "https://localhost:8080/"
        },
        "id": "vOVJCBVGsueL",
        "outputId": "22db0ef5-6ccc-46e8-e3ba-e48b0c64efc1"
      },
      "execution_count": 28,
      "outputs": [
        {
          "output_type": "stream",
          "name": "stdout",
          "text": [
            "2826 2453 9999\n"
          ]
        }
      ]
    },
    {
      "cell_type": "markdown",
      "source": [
        "Да, судя по всему начальное приближение влияет на вид решения"
      ],
      "metadata": {
        "id": "dYsceVCps4cr"
      }
    }
  ]
}