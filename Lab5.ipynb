{
  "nbformat": 4,
  "nbformat_minor": 0,
  "metadata": {
    "colab": {
      "provenance": [],
      "mount_file_id": "1vMakNFssiRpTQ7VENOH5nkZpgePEZEAV",
      "authorship_tag": "ABX9TyN+LZHTgnnyO6o9/OO7ejob",
      "include_colab_link": true
    },
    "kernelspec": {
      "name": "python3",
      "display_name": "Python 3"
    },
    "language_info": {
      "name": "python"
    }
  },
  "cells": [
    {
      "cell_type": "markdown",
      "metadata": {
        "id": "view-in-github",
        "colab_type": "text"
      },
      "source": [
        "<a href=\"https://colab.research.google.com/github/soltiste/ii-in-economi/blob/main/Lab5.ipynb\" target=\"_parent\"><img src=\"https://colab.research.google.com/assets/colab-badge.svg\" alt=\"Open In Colab\"/></a>"
      ]
    },
    {
      "cell_type": "markdown",
      "source": [
        "1. Загрузите обучающую и тестовую выборки из файлов perceptrontrain.csv и perceptron-test.csv. Целевая переменная записана в пер\n",
        "вом столбце, признаки — во втором и третьем.\n",
        "2. Обучите персептрон со стандартными параметрами и random_state=241.\n",
        "3. Подсчитайте качество (долю правильно классифицированных объектов, accuracy) полученного классификатора на тестовой выборке.\n",
        "4. Нормализуйте обучающую и тестовую выборку с помощью класса\n",
        "StandardScaler.\n",
        "5. Обучите персептрон на новых выборках. Найдите долю правильных ответов на тестовой выборке.\n",
        "6. Найдите разность между качеством на тестовой выборке после нормализации и качеством до нее. Это число и будет ответом на задание.\n",
        "Если ответом является нецелое число, то це"
      ],
      "metadata": {
        "id": "MXlRXUmVLoSk"
      }
    },
    {
      "cell_type": "code",
      "execution_count": 4,
      "metadata": {
        "id": "n4tSBjvSKwi0"
      },
      "outputs": [],
      "source": [
        "import pandas as pd\n",
        "import numpy as np\n",
        "import sklearn\n",
        "from sklearn.linear_model import Perceptron\n",
        "from sklearn.preprocessing import StandardScaler\n",
        "from sklearn.metrics import accuracy_score"
      ]
    },
    {
      "cell_type": "code",
      "source": [
        "data_train = pd.read_csv('/content/drive/MyDrive/perceptron-train.csv',\n",
        "                         header=None, names=['1', '2', '3'])\n",
        "data_test = pd.read_csv('/content/drive/MyDrive/perceptron-test.csv',\n",
        "                        header=None, names=['1', '2', '3'])\n",
        "X_train, y_train = data_train[['2', '3']], data_train[['1']]\n",
        "X_test, y_test = data_test[['2', '3']], data_test[['1']]"
      ],
      "metadata": {
        "id": "RJ3h4MkdLvt4"
      },
      "execution_count": 2,
      "outputs": []
    },
    {
      "cell_type": "code",
      "source": [
        "clf = Perceptron(random_state=241)\n",
        "clf.fit(X_train, y_train)\n",
        "y_pred = clf.predict(X_test)\n",
        "quality_for_raw = accuracy_score(y_test, y_pred)\n",
        "quality_for_raw"
      ],
      "metadata": {
        "id": "H33IgtygQMKL",
        "colab": {
          "base_uri": "https://localhost:8080/"
        },
        "outputId": "b52f4e9f-f019-498d-8eec-95b521231b33"
      },
      "execution_count": 5,
      "outputs": [
        {
          "output_type": "stream",
          "name": "stderr",
          "text": [
            "/usr/local/lib/python3.10/dist-packages/sklearn/utils/validation.py:1143: DataConversionWarning: A column-vector y was passed when a 1d array was expected. Please change the shape of y to (n_samples, ), for example using ravel().\n",
            "  y = column_or_1d(y, warn=True)\n"
          ]
        },
        {
          "output_type": "execute_result",
          "data": {
            "text/plain": [
              "0.655"
            ]
          },
          "metadata": {},
          "execution_count": 5
        }
      ]
    },
    {
      "cell_type": "code",
      "source": [
        "scal = StandardScaler()\n",
        "X_train_scal = scal.fit_transform(X_train)\n",
        "X_test_scal = scal.transform(X_test)"
      ],
      "metadata": {
        "id": "XNrVgd4tNeK7"
      },
      "execution_count": 6,
      "outputs": []
    },
    {
      "cell_type": "code",
      "source": [
        "clf = Perceptron(random_state=241)\n",
        "clf.fit(X_train_scal, y_train)\n",
        "y_pred_scal = clf.predict(X_test_scal)\n",
        "quality_for_scal = accuracy_score(y_test, y_pred_scal)\n",
        "quality_for_scal"
      ],
      "metadata": {
        "colab": {
          "base_uri": "https://localhost:8080/"
        },
        "id": "UPDwgypqN9IQ",
        "outputId": "d984c097-5c5d-4fa5-c0d8-9271aeed081c"
      },
      "execution_count": 7,
      "outputs": [
        {
          "output_type": "stream",
          "name": "stderr",
          "text": [
            "/usr/local/lib/python3.10/dist-packages/sklearn/utils/validation.py:1143: DataConversionWarning: A column-vector y was passed when a 1d array was expected. Please change the shape of y to (n_samples, ), for example using ravel().\n",
            "  y = column_or_1d(y, warn=True)\n"
          ]
        },
        {
          "output_type": "execute_result",
          "data": {
            "text/plain": [
              "0.725"
            ]
          },
          "metadata": {},
          "execution_count": 7
        }
      ]
    },
    {
      "cell_type": "code",
      "source": [
        "excellence_of_normalize = quality_for_scal - quality_for_raw\n",
        "excellence_of_normalize"
      ],
      "metadata": {
        "colab": {
          "base_uri": "https://localhost:8080/"
        },
        "id": "3RSQY6IjPJC1",
        "outputId": "3f285844-5a2c-4419-ea4a-81faed5fe5a4"
      },
      "execution_count": 8,
      "outputs": [
        {
          "output_type": "execute_result",
          "data": {
            "text/plain": [
              "0.06999999999999995"
            ]
          },
          "metadata": {},
          "execution_count": 8
        }
      ]
    },
    {
      "cell_type": "markdown",
      "source": [
        "В результате стандартизации признаков качество работы алгоритма увеличилось почти на 7%"
      ],
      "metadata": {
        "id": "W1u3F66mPwz-"
      }
    }
  ]
}